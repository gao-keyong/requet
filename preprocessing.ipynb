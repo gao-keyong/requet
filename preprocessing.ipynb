{
  "cells": [
    {
      "cell_type": "markdown",
      "metadata": {
        "colab_type": "text",
        "id": "l9YluDp3CpfT"
      },
      "source": [
        "We use the [Requet dataset](https://github.com/Wimnet/RequetDataSet), in particular the \"merged files\" which summarize the connection and QoE information every 100 ms."
      ]
    },
    {
      "cell_type": "code",
      "execution_count": 1,
      "metadata": {
        "colab": {},
        "colab_type": "code",
        "id": "ui_6_kWhCpfa"
      },
      "outputs": [],
      "source": [
        "# Request gives us different datasets. In this notebook, we are using one\n",
        "# of them\n",
        "dataset_to_use = 'B1'"
      ]
    },
    {
      "cell_type": "code",
      "execution_count": 2,
      "metadata": {
        "colab": {
          "base_uri": "https://localhost:8080/",
          "height": 54
        },
        "colab_type": "code",
        "id": "Sl9q0WKkCpfr",
        "outputId": "036ba1e3-e689-441d-c7fa-eda6e573c2a3"
      },
      "outputs": [],
      "source": [
        "import numpy as np\n",
        "\n",
        "import pandas as pd\n",
        "import matplotlib.pyplot as plt\n",
        "\n",
        "from scipy.io import arff\n",
        "import glob"
      ]
    },
    {
      "cell_type": "markdown",
      "metadata": {
        "colab_type": "text",
        "id": "SOoYhCiECpgB"
      },
      "source": [
        "## Load and preprocessing\n",
        "\n",
        "Download the dataset"
      ]
    },
    {
      "cell_type": "code",
      "execution_count": 3,
      "metadata": {
        "colab": {
          "base_uri": "https://localhost:8080/",
          "height": 1000
        },
        "colab_type": "code",
        "id": "NoeTQB6OCpgE",
        "outputId": "45c28d5f-8fa1-4f4e-e540-be2fe29ff616"
      },
      "outputs": [
        {
          "name": "stdout",
          "output_type": "stream",
          "text": [
            "Files found in folder :  RequetDataSet-master/B1/MERGED_FILES/ : ['RequetDataSet-master/B1/MERGED_FILES/baseline_apartment_exp_383_merged.txt', 'RequetDataSet-master/B1/MERGED_FILES/baseline_apartment_exp_287_merged.txt', 'RequetDataSet-master/B1/MERGED_FILES/baseline_apartment_exp_277_merged.txt', 'RequetDataSet-master/B1/MERGED_FILES/baseline_apartment_exp_274_merged.txt', 'RequetDataSet-master/B1/MERGED_FILES/baseline_apartment_exp_379_merged.txt', 'RequetDataSet-master/B1/MERGED_FILES/baseline_apartment_exp_293_merged.txt', 'RequetDataSet-master/B1/MERGED_FILES/baseline_apartment_exp_271_merged.txt', 'RequetDataSet-master/B1/MERGED_FILES/baseline_apartment_exp_316_merged.txt', 'RequetDataSet-master/B1/MERGED_FILES/baseline_apartment_exp_292_merged.txt', 'RequetDataSet-master/B1/MERGED_FILES/baseline_apartment_exp_314_merged.txt', 'RequetDataSet-master/B1/MERGED_FILES/baseline_apartment_exp_302_merged.txt', 'RequetDataSet-master/B1/MERGED_FILES/baseline_apartment_exp_315_merged.txt', 'RequetDataSet-master/B1/MERGED_FILES/baseline_apartment_exp_306_merged.txt', 'RequetDataSet-master/B1/MERGED_FILES/baseline_apartment_exp_296_merged.txt', 'RequetDataSet-master/B1/MERGED_FILES/baseline_apartment_exp_289_merged.txt', 'RequetDataSet-master/B1/MERGED_FILES/baseline_apartment_exp_279_merged.txt', 'RequetDataSet-master/B1/MERGED_FILES/baseline_apartment_exp_290_merged.txt', 'RequetDataSet-master/B1/MERGED_FILES/baseline_apartment_exp_309_merged.txt', 'RequetDataSet-master/B1/MERGED_FILES/baseline_apartment_exp_311_merged.txt', 'RequetDataSet-master/B1/MERGED_FILES/baseline_apartment_exp_303_merged.txt', 'RequetDataSet-master/B1/MERGED_FILES/baseline_apartment_exp_291_merged.txt', 'RequetDataSet-master/B1/MERGED_FILES/baseline_apartment_exp_304_merged.txt', 'RequetDataSet-master/B1/MERGED_FILES/baseline_apartment_exp_294_merged.txt', 'RequetDataSet-master/B1/MERGED_FILES/baseline_apartment_exp_288_merged.txt', 'RequetDataSet-master/B1/MERGED_FILES/baseline_apartment_exp_275_merged.txt', 'RequetDataSet-master/B1/MERGED_FILES/baseline_apartment_exp_272_merged.txt', 'RequetDataSet-master/B1/MERGED_FILES/baseline_apartment_exp_268_merged.txt', 'RequetDataSet-master/B1/MERGED_FILES/baseline_apartment_exp_317_merged.txt', 'RequetDataSet-master/B1/MERGED_FILES/baseline_apartment_exp_297_merged.txt', 'RequetDataSet-master/B1/MERGED_FILES/baseline_apartment_exp_280_merged.txt', 'RequetDataSet-master/B1/MERGED_FILES/baseline_apartment_exp_273_merged.txt', 'RequetDataSet-master/B1/MERGED_FILES/baseline_apartment_exp_301_merged.txt', 'RequetDataSet-master/B1/MERGED_FILES/baseline_apartment_exp_387_merged.txt', 'RequetDataSet-master/B1/MERGED_FILES/baseline_apartment_exp_285_merged.txt', 'RequetDataSet-master/B1/MERGED_FILES/baseline_apartment_exp_378_merged.txt', 'RequetDataSet-master/B1/MERGED_FILES/baseline_apartment_exp_286_merged.txt', 'RequetDataSet-master/B1/MERGED_FILES/baseline_apartment_exp_307_merged.txt', 'RequetDataSet-master/B1/MERGED_FILES/baseline_apartment_exp_310_merged.txt', 'RequetDataSet-master/B1/MERGED_FILES/baseline_apartment_exp_380_merged.txt', 'RequetDataSet-master/B1/MERGED_FILES/baseline_apartment_exp_386_merged.txt', 'RequetDataSet-master/B1/MERGED_FILES/baseline_apartment_exp_382_merged.txt', 'RequetDataSet-master/B1/MERGED_FILES/baseline_apartment_exp_281_merged.txt', 'RequetDataSet-master/B1/MERGED_FILES/baseline_apartment_exp_381_merged.txt', 'RequetDataSet-master/B1/MERGED_FILES/baseline_apartment_exp_313_merged.txt', 'RequetDataSet-master/B1/MERGED_FILES/baseline_apartment_exp_295_merged.txt', 'RequetDataSet-master/B1/MERGED_FILES/baseline_apartment_exp_300_merged.txt', 'RequetDataSet-master/B1/MERGED_FILES/baseline_apartment_exp_282_merged.txt', 'RequetDataSet-master/B1/MERGED_FILES/baseline_apartment_exp_284_merged.txt', 'RequetDataSet-master/B1/MERGED_FILES/baseline_apartment_exp_278_merged.txt', 'RequetDataSet-master/B1/MERGED_FILES/baseline_apartment_exp_312_merged.txt', 'RequetDataSet-master/B1/MERGED_FILES/baseline_apartment_exp_385_merged.txt', 'RequetDataSet-master/B1/MERGED_FILES/baseline_apartment_exp_299_merged.txt', 'RequetDataSet-master/B1/MERGED_FILES/baseline_apartment_exp_269_merged.txt', 'RequetDataSet-master/B1/MERGED_FILES/baseline_apartment_exp_298_merged.txt', 'RequetDataSet-master/B1/MERGED_FILES/baseline_apartment_exp_308_merged.txt', 'RequetDataSet-master/B1/MERGED_FILES/baseline_apartment_exp_384_merged.txt', 'RequetDataSet-master/B1/MERGED_FILES/baseline_apartment_exp_283_merged.txt', 'RequetDataSet-master/B1/MERGED_FILES/baseline_apartment_exp_270_merged.txt', 'RequetDataSet-master/B1/MERGED_FILES/baseline_apartment_exp_276_merged.txt', 'RequetDataSet-master/B1/MERGED_FILES/baseline_apartment_exp_305_merged.txt']\n"
          ]
        },
        {
          "name": "stderr",
          "output_type": "stream",
          "text": [
            "/tmp/ipykernel_6509/2566164876.py:20: DtypeWarning: Columns (21,28,42,56,63,70,84,91,98,105) have mixed types. Specify dtype option on import or set low_memory=False.\n",
            "  df=pd.concat( [ df, pd.read_csv(outfilename, header=None) ],\n",
            "/tmp/ipykernel_6509/2566164876.py:20: DtypeWarning: Columns (14,35,42,49,63,70,77,91) have mixed types. Specify dtype option on import or set low_memory=False.\n",
            "  df=pd.concat( [ df, pd.read_csv(outfilename, header=None) ],\n"
          ]
        },
        {
          "name": "stdout",
          "output_type": "stream",
          "text": [
            "Concatenating ( 1 / 60 ):  RequetDataSet-master/B1/MERGED_FILES/baseline_apartment_exp_383_merged.txt\n",
            "Concatenating ( 2 / 60 ):  RequetDataSet-master/B1/MERGED_FILES/baseline_apartment_exp_287_merged.txt\n"
          ]
        },
        {
          "name": "stderr",
          "output_type": "stream",
          "text": [
            "/tmp/ipykernel_6509/2566164876.py:20: DtypeWarning: Columns (14,28,35,42,63,70,77,91,98,105,112,119,126) have mixed types. Specify dtype option on import or set low_memory=False.\n",
            "  df=pd.concat( [ df, pd.read_csv(outfilename, header=None) ],\n",
            "/tmp/ipykernel_6509/2566164876.py:20: DtypeWarning: Columns (14,35,42,49,56,63,77,84,91,98,112) have mixed types. Specify dtype option on import or set low_memory=False.\n",
            "  df=pd.concat( [ df, pd.read_csv(outfilename, header=None) ],\n"
          ]
        },
        {
          "name": "stdout",
          "output_type": "stream",
          "text": [
            "Concatenating ( 3 / 60 ):  RequetDataSet-master/B1/MERGED_FILES/baseline_apartment_exp_277_merged.txt\n",
            "Concatenating ( 4 / 60 ):  RequetDataSet-master/B1/MERGED_FILES/baseline_apartment_exp_274_merged.txt\n"
          ]
        },
        {
          "name": "stderr",
          "output_type": "stream",
          "text": [
            "/tmp/ipykernel_6509/2566164876.py:20: DtypeWarning: Columns (14,21,49,56,63,70,77,84,91) have mixed types. Specify dtype option on import or set low_memory=False.\n",
            "  df=pd.concat( [ df, pd.read_csv(outfilename, header=None) ],\n",
            "/tmp/ipykernel_6509/2566164876.py:20: DtypeWarning: Columns (14,21,28,42,49,56,63,84,91,105,112) have mixed types. Specify dtype option on import or set low_memory=False.\n",
            "  df=pd.concat( [ df, pd.read_csv(outfilename, header=None) ],\n"
          ]
        },
        {
          "name": "stdout",
          "output_type": "stream",
          "text": [
            "Concatenating ( 5 / 60 ):  RequetDataSet-master/B1/MERGED_FILES/baseline_apartment_exp_379_merged.txt\n",
            "Concatenating ( 6 / 60 ):  RequetDataSet-master/B1/MERGED_FILES/baseline_apartment_exp_293_merged.txt\n"
          ]
        },
        {
          "name": "stderr",
          "output_type": "stream",
          "text": [
            "/tmp/ipykernel_6509/2566164876.py:20: DtypeWarning: Columns (14,21,28,35,49,56,70,77,84,91,98,105,112,119,133) have mixed types. Specify dtype option on import or set low_memory=False.\n",
            "  df=pd.concat( [ df, pd.read_csv(outfilename, header=None) ],\n",
            "/tmp/ipykernel_6509/2566164876.py:20: DtypeWarning: Columns (21,28,42,49,56,63,70,84,91,98,112) have mixed types. Specify dtype option on import or set low_memory=False.\n",
            "  df=pd.concat( [ df, pd.read_csv(outfilename, header=None) ],\n"
          ]
        },
        {
          "name": "stdout",
          "output_type": "stream",
          "text": [
            "Concatenating ( 7 / 60 ):  RequetDataSet-master/B1/MERGED_FILES/baseline_apartment_exp_271_merged.txt\n",
            "Concatenating ( 8 / 60 ):  RequetDataSet-master/B1/MERGED_FILES/baseline_apartment_exp_316_merged.txt\n"
          ]
        },
        {
          "name": "stderr",
          "output_type": "stream",
          "text": [
            "/tmp/ipykernel_6509/2566164876.py:20: DtypeWarning: Columns (14,21,35,42,56,63,70,84,91,98,105) have mixed types. Specify dtype option on import or set low_memory=False.\n",
            "  df=pd.concat( [ df, pd.read_csv(outfilename, header=None) ],\n",
            "/tmp/ipykernel_6509/2566164876.py:20: DtypeWarning: Columns (21,35,42,49,56,63,70,84,91) have mixed types. Specify dtype option on import or set low_memory=False.\n",
            "  df=pd.concat( [ df, pd.read_csv(outfilename, header=None) ],\n"
          ]
        },
        {
          "name": "stdout",
          "output_type": "stream",
          "text": [
            "Concatenating ( 9 / 60 ):  RequetDataSet-master/B1/MERGED_FILES/baseline_apartment_exp_292_merged.txt\n",
            "Concatenating ( 10 / 60 ):  RequetDataSet-master/B1/MERGED_FILES/baseline_apartment_exp_314_merged.txt\n"
          ]
        },
        {
          "name": "stderr",
          "output_type": "stream",
          "text": [
            "/tmp/ipykernel_6509/2566164876.py:20: DtypeWarning: Columns (14,21,35,42,49,63,77,84,91,98,105,112,119,133,140) have mixed types. Specify dtype option on import or set low_memory=False.\n",
            "  df=pd.concat( [ df, pd.read_csv(outfilename, header=None) ],\n",
            "/tmp/ipykernel_6509/2566164876.py:20: DtypeWarning: Columns (14,42,49,56,63,70,77,84,91,98,105,119) have mixed types. Specify dtype option on import or set low_memory=False.\n",
            "  df=pd.concat( [ df, pd.read_csv(outfilename, header=None) ],\n"
          ]
        },
        {
          "name": "stdout",
          "output_type": "stream",
          "text": [
            "Concatenating ( 11 / 60 ):  RequetDataSet-master/B1/MERGED_FILES/baseline_apartment_exp_302_merged.txt\n",
            "Concatenating ( 12 / 60 ):  RequetDataSet-master/B1/MERGED_FILES/baseline_apartment_exp_315_merged.txt\n"
          ]
        },
        {
          "name": "stderr",
          "output_type": "stream",
          "text": [
            "/tmp/ipykernel_6509/2566164876.py:20: DtypeWarning: Columns (14,28,35,42,49,63,70,77,84,91,98,112,119,126,140) have mixed types. Specify dtype option on import or set low_memory=False.\n",
            "  df=pd.concat( [ df, pd.read_csv(outfilename, header=None) ],\n",
            "/tmp/ipykernel_6509/2566164876.py:20: DtypeWarning: Columns (14,21,28,35,42,49,63,84,91,98,105,119,133) have mixed types. Specify dtype option on import or set low_memory=False.\n",
            "  df=pd.concat( [ df, pd.read_csv(outfilename, header=None) ],\n"
          ]
        },
        {
          "name": "stdout",
          "output_type": "stream",
          "text": [
            "Concatenating ( 13 / 60 ):  RequetDataSet-master/B1/MERGED_FILES/baseline_apartment_exp_306_merged.txt\n",
            "Concatenating ( 14 / 60 ):  RequetDataSet-master/B1/MERGED_FILES/baseline_apartment_exp_296_merged.txt\n"
          ]
        },
        {
          "name": "stderr",
          "output_type": "stream",
          "text": [
            "/tmp/ipykernel_6509/2566164876.py:20: DtypeWarning: Columns (14,21,28,42,63,77,84,91) have mixed types. Specify dtype option on import or set low_memory=False.\n",
            "  df=pd.concat( [ df, pd.read_csv(outfilename, header=None) ],\n",
            "/tmp/ipykernel_6509/2566164876.py:20: DtypeWarning: Columns (21,28,49,56,70,77,84,98) have mixed types. Specify dtype option on import or set low_memory=False.\n",
            "  df=pd.concat( [ df, pd.read_csv(outfilename, header=None) ],\n"
          ]
        },
        {
          "name": "stdout",
          "output_type": "stream",
          "text": [
            "Concatenating ( 15 / 60 ):  RequetDataSet-master/B1/MERGED_FILES/baseline_apartment_exp_289_merged.txt\n",
            "Concatenating ( 16 / 60 ):  RequetDataSet-master/B1/MERGED_FILES/baseline_apartment_exp_279_merged.txt\n"
          ]
        },
        {
          "name": "stderr",
          "output_type": "stream",
          "text": [
            "/tmp/ipykernel_6509/2566164876.py:20: DtypeWarning: Columns (14,35,42,56,63,70,77,84,98) have mixed types. Specify dtype option on import or set low_memory=False.\n",
            "  df=pd.concat( [ df, pd.read_csv(outfilename, header=None) ],\n",
            "/tmp/ipykernel_6509/2566164876.py:20: DtypeWarning: Columns (28,42,49,63,70,77,84,98) have mixed types. Specify dtype option on import or set low_memory=False.\n",
            "  df=pd.concat( [ df, pd.read_csv(outfilename, header=None) ],\n"
          ]
        },
        {
          "name": "stdout",
          "output_type": "stream",
          "text": [
            "Concatenating ( 17 / 60 ):  RequetDataSet-master/B1/MERGED_FILES/baseline_apartment_exp_290_merged.txt\n",
            "Concatenating ( 18 / 60 ):  RequetDataSet-master/B1/MERGED_FILES/baseline_apartment_exp_309_merged.txt\n"
          ]
        },
        {
          "name": "stderr",
          "output_type": "stream",
          "text": [
            "/tmp/ipykernel_6509/2566164876.py:20: DtypeWarning: Columns (7,14,21,28,35,56,63,70,84,91) have mixed types. Specify dtype option on import or set low_memory=False.\n",
            "  df=pd.concat( [ df, pd.read_csv(outfilename, header=None) ],\n",
            "/tmp/ipykernel_6509/2566164876.py:20: DtypeWarning: Columns (14,21,28,35,49,56,63,77,84,98,112,119) have mixed types. Specify dtype option on import or set low_memory=False.\n",
            "  df=pd.concat( [ df, pd.read_csv(outfilename, header=None) ],\n"
          ]
        },
        {
          "name": "stdout",
          "output_type": "stream",
          "text": [
            "Concatenating ( 19 / 60 ):  RequetDataSet-master/B1/MERGED_FILES/baseline_apartment_exp_311_merged.txt\n",
            "Concatenating ( 20 / 60 ):  RequetDataSet-master/B1/MERGED_FILES/baseline_apartment_exp_303_merged.txt\n"
          ]
        },
        {
          "name": "stderr",
          "output_type": "stream",
          "text": [
            "/tmp/ipykernel_6509/2566164876.py:20: DtypeWarning: Columns (7,21,35,56,63,70,77,91,98,105,112,119) have mixed types. Specify dtype option on import or set low_memory=False.\n",
            "  df=pd.concat( [ df, pd.read_csv(outfilename, header=None) ],\n",
            "/tmp/ipykernel_6509/2566164876.py:20: DtypeWarning: Columns (14,21,28,35,49,56,63,70,91,98,105,119) have mixed types. Specify dtype option on import or set low_memory=False.\n",
            "  df=pd.concat( [ df, pd.read_csv(outfilename, header=None) ],\n"
          ]
        },
        {
          "name": "stdout",
          "output_type": "stream",
          "text": [
            "Concatenating ( 21 / 60 ):  RequetDataSet-master/B1/MERGED_FILES/baseline_apartment_exp_291_merged.txt\n",
            "Concatenating ( 22 / 60 ):  RequetDataSet-master/B1/MERGED_FILES/baseline_apartment_exp_304_merged.txt\n"
          ]
        },
        {
          "name": "stderr",
          "output_type": "stream",
          "text": [
            "/tmp/ipykernel_6509/2566164876.py:20: DtypeWarning: Columns (14,21,28,35,49,70,77,84,91,105,112,119) have mixed types. Specify dtype option on import or set low_memory=False.\n",
            "  df=pd.concat( [ df, pd.read_csv(outfilename, header=None) ],\n",
            "/tmp/ipykernel_6509/2566164876.py:20: DtypeWarning: Columns (14,21,28,35,56,63,70,77,84,98,105,112,126,133,140) have mixed types. Specify dtype option on import or set low_memory=False.\n",
            "  df=pd.concat( [ df, pd.read_csv(outfilename, header=None) ],\n"
          ]
        },
        {
          "name": "stdout",
          "output_type": "stream",
          "text": [
            "Concatenating ( 23 / 60 ):  RequetDataSet-master/B1/MERGED_FILES/baseline_apartment_exp_294_merged.txt\n",
            "Concatenating ( 24 / 60 ):  RequetDataSet-master/B1/MERGED_FILES/baseline_apartment_exp_288_merged.txt\n"
          ]
        },
        {
          "name": "stderr",
          "output_type": "stream",
          "text": [
            "/tmp/ipykernel_6509/2566164876.py:20: DtypeWarning: Columns (14,28,35,42,49,56,70,77,91,105,112,119,126,133,147) have mixed types. Specify dtype option on import or set low_memory=False.\n",
            "  df=pd.concat( [ df, pd.read_csv(outfilename, header=None) ],\n",
            "/tmp/ipykernel_6509/2566164876.py:20: DtypeWarning: Columns (21,35,42,56,70,77,84,91,105,112,126) have mixed types. Specify dtype option on import or set low_memory=False.\n",
            "  df=pd.concat( [ df, pd.read_csv(outfilename, header=None) ],\n"
          ]
        },
        {
          "name": "stdout",
          "output_type": "stream",
          "text": [
            "Concatenating ( 25 / 60 ):  RequetDataSet-master/B1/MERGED_FILES/baseline_apartment_exp_275_merged.txt\n",
            "Concatenating ( 26 / 60 ):  RequetDataSet-master/B1/MERGED_FILES/baseline_apartment_exp_272_merged.txt\n"
          ]
        },
        {
          "name": "stderr",
          "output_type": "stream",
          "text": [
            "/tmp/ipykernel_6509/2566164876.py:20: DtypeWarning: Columns (14,21,28,35,56,70,84,91,98,112,133) have mixed types. Specify dtype option on import or set low_memory=False.\n",
            "  df=pd.concat( [ df, pd.read_csv(outfilename, header=None) ],\n",
            "/tmp/ipykernel_6509/2566164876.py:20: DtypeWarning: Columns (14,28,35,42,49,56,63,77,84,91,98,105,112,126) have mixed types. Specify dtype option on import or set low_memory=False.\n",
            "  df=pd.concat( [ df, pd.read_csv(outfilename, header=None) ],\n"
          ]
        },
        {
          "name": "stdout",
          "output_type": "stream",
          "text": [
            "Concatenating ( 27 / 60 ):  RequetDataSet-master/B1/MERGED_FILES/baseline_apartment_exp_268_merged.txt\n",
            "Concatenating ( 28 / 60 ):  RequetDataSet-master/B1/MERGED_FILES/baseline_apartment_exp_317_merged.txt\n"
          ]
        },
        {
          "name": "stderr",
          "output_type": "stream",
          "text": [
            "/tmp/ipykernel_6509/2566164876.py:20: DtypeWarning: Columns (14,21,28,42,49,56,63,84,91,98,105,112) have mixed types. Specify dtype option on import or set low_memory=False.\n",
            "  df=pd.concat( [ df, pd.read_csv(outfilename, header=None) ],\n",
            "/tmp/ipykernel_6509/2566164876.py:20: DtypeWarning: Columns (28,35,42,56,63,77,84,91) have mixed types. Specify dtype option on import or set low_memory=False.\n",
            "  df=pd.concat( [ df, pd.read_csv(outfilename, header=None) ],\n"
          ]
        },
        {
          "name": "stdout",
          "output_type": "stream",
          "text": [
            "Concatenating ( 29 / 60 ):  RequetDataSet-master/B1/MERGED_FILES/baseline_apartment_exp_297_merged.txt\n",
            "Concatenating ( 30 / 60 ):  RequetDataSet-master/B1/MERGED_FILES/baseline_apartment_exp_280_merged.txt\n"
          ]
        },
        {
          "name": "stderr",
          "output_type": "stream",
          "text": [
            "/tmp/ipykernel_6509/2566164876.py:20: DtypeWarning: Columns (14,28,35,42,49,63,77,84,91,98,112) have mixed types. Specify dtype option on import or set low_memory=False.\n",
            "  df=pd.concat( [ df, pd.read_csv(outfilename, header=None) ],\n",
            "/tmp/ipykernel_6509/2566164876.py:20: DtypeWarning: Columns (7,14,35,42,49,56,70,77,84,91,98,105,119) have mixed types. Specify dtype option on import or set low_memory=False.\n",
            "  df=pd.concat( [ df, pd.read_csv(outfilename, header=None) ],\n"
          ]
        },
        {
          "name": "stdout",
          "output_type": "stream",
          "text": [
            "Concatenating ( 31 / 60 ):  RequetDataSet-master/B1/MERGED_FILES/baseline_apartment_exp_273_merged.txt\n",
            "Concatenating ( 32 / 60 ):  RequetDataSet-master/B1/MERGED_FILES/baseline_apartment_exp_301_merged.txt\n"
          ]
        },
        {
          "name": "stderr",
          "output_type": "stream",
          "text": [
            "/tmp/ipykernel_6509/2566164876.py:20: DtypeWarning: Columns (14,21,28,35,42,49,56,70,77,91,98,105) have mixed types. Specify dtype option on import or set low_memory=False.\n",
            "  df=pd.concat( [ df, pd.read_csv(outfilename, header=None) ],\n",
            "/tmp/ipykernel_6509/2566164876.py:20: DtypeWarning: Columns (14,28,42,49,63,70,77,84,91,98,105,119,126,133) have mixed types. Specify dtype option on import or set low_memory=False.\n",
            "  df=pd.concat( [ df, pd.read_csv(outfilename, header=None) ],\n"
          ]
        },
        {
          "name": "stdout",
          "output_type": "stream",
          "text": [
            "Concatenating ( 33 / 60 ):  RequetDataSet-master/B1/MERGED_FILES/baseline_apartment_exp_387_merged.txt\n",
            "Concatenating ( 34 / 60 ):  RequetDataSet-master/B1/MERGED_FILES/baseline_apartment_exp_285_merged.txt\n"
          ]
        },
        {
          "name": "stderr",
          "output_type": "stream",
          "text": [
            "/tmp/ipykernel_6509/2566164876.py:20: DtypeWarning: Columns (14,21,28,35,49,56,70,77,84,91,98,105,119) have mixed types. Specify dtype option on import or set low_memory=False.\n",
            "  df=pd.concat( [ df, pd.read_csv(outfilename, header=None) ],\n",
            "/tmp/ipykernel_6509/2566164876.py:20: DtypeWarning: Columns (21,35,42,49,56,70,77,84,91,105) have mixed types. Specify dtype option on import or set low_memory=False.\n",
            "  df=pd.concat( [ df, pd.read_csv(outfilename, header=None) ],\n"
          ]
        },
        {
          "name": "stdout",
          "output_type": "stream",
          "text": [
            "Concatenating ( 35 / 60 ):  RequetDataSet-master/B1/MERGED_FILES/baseline_apartment_exp_378_merged.txt\n",
            "Concatenating ( 36 / 60 ):  RequetDataSet-master/B1/MERGED_FILES/baseline_apartment_exp_286_merged.txt\n"
          ]
        },
        {
          "name": "stderr",
          "output_type": "stream",
          "text": [
            "/tmp/ipykernel_6509/2566164876.py:20: DtypeWarning: Columns (14,21,35,49,56,63,84,91) have mixed types. Specify dtype option on import or set low_memory=False.\n",
            "  df=pd.concat( [ df, pd.read_csv(outfilename, header=None) ],\n",
            "/tmp/ipykernel_6509/2566164876.py:20: DtypeWarning: Columns (14,28,35,42,49,63,70,77,84,91,98,105,119) have mixed types. Specify dtype option on import or set low_memory=False.\n",
            "  df=pd.concat( [ df, pd.read_csv(outfilename, header=None) ],\n"
          ]
        },
        {
          "name": "stdout",
          "output_type": "stream",
          "text": [
            "Concatenating ( 37 / 60 ):  RequetDataSet-master/B1/MERGED_FILES/baseline_apartment_exp_307_merged.txt\n",
            "Concatenating ( 38 / 60 ):  RequetDataSet-master/B1/MERGED_FILES/baseline_apartment_exp_310_merged.txt\n"
          ]
        },
        {
          "name": "stderr",
          "output_type": "stream",
          "text": [
            "/tmp/ipykernel_6509/2566164876.py:20: DtypeWarning: Columns (28,35,42,49,56,70,77) have mixed types. Specify dtype option on import or set low_memory=False.\n",
            "  df=pd.concat( [ df, pd.read_csv(outfilename, header=None) ],\n",
            "/tmp/ipykernel_6509/2566164876.py:20: DtypeWarning: Columns (21,28,35,56,63,70,77,84,91,98,112,119) have mixed types. Specify dtype option on import or set low_memory=False.\n",
            "  df=pd.concat( [ df, pd.read_csv(outfilename, header=None) ],\n"
          ]
        },
        {
          "name": "stdout",
          "output_type": "stream",
          "text": [
            "Concatenating ( 39 / 60 ):  RequetDataSet-master/B1/MERGED_FILES/baseline_apartment_exp_380_merged.txt\n",
            "Concatenating ( 40 / 60 ):  RequetDataSet-master/B1/MERGED_FILES/baseline_apartment_exp_386_merged.txt\n"
          ]
        },
        {
          "name": "stderr",
          "output_type": "stream",
          "text": [
            "/tmp/ipykernel_6509/2566164876.py:20: DtypeWarning: Columns (14,21,28,35,49,63,70,77,84,98,105,112,119,126,133,147) have mixed types. Specify dtype option on import or set low_memory=False.\n",
            "  df=pd.concat( [ df, pd.read_csv(outfilename, header=None) ],\n",
            "/tmp/ipykernel_6509/2566164876.py:20: DtypeWarning: Columns (7,21,28,35,42,56,63,70,84,91,98,105,112,119,126,140) have mixed types. Specify dtype option on import or set low_memory=False.\n",
            "  df=pd.concat( [ df, pd.read_csv(outfilename, header=None) ],\n"
          ]
        },
        {
          "name": "stdout",
          "output_type": "stream",
          "text": [
            "Concatenating ( 41 / 60 ):  RequetDataSet-master/B1/MERGED_FILES/baseline_apartment_exp_382_merged.txt\n",
            "Concatenating ( 42 / 60 ):  RequetDataSet-master/B1/MERGED_FILES/baseline_apartment_exp_281_merged.txt\n"
          ]
        },
        {
          "name": "stderr",
          "output_type": "stream",
          "text": [
            "/tmp/ipykernel_6509/2566164876.py:20: DtypeWarning: Columns (7,14,21,28,42,49,63,70,77,84,91,98,105,112,126) have mixed types. Specify dtype option on import or set low_memory=False.\n",
            "  df=pd.concat( [ df, pd.read_csv(outfilename, header=None) ],\n"
          ]
        },
        {
          "name": "stdout",
          "output_type": "stream",
          "text": [
            "Concatenating ( 43 / 60 ):  RequetDataSet-master/B1/MERGED_FILES/baseline_apartment_exp_381_merged.txt\n"
          ]
        },
        {
          "name": "stderr",
          "output_type": "stream",
          "text": [
            "/tmp/ipykernel_6509/2566164876.py:20: DtypeWarning: Columns (21,35,42,63,70,77,84,91,98,105,112) have mixed types. Specify dtype option on import or set low_memory=False.\n",
            "  df=pd.concat( [ df, pd.read_csv(outfilename, header=None) ],\n",
            "/tmp/ipykernel_6509/2566164876.py:20: DtypeWarning: Columns (14,21,28,35,49,56,63,70,84,91,98,105,112,119) have mixed types. Specify dtype option on import or set low_memory=False.\n",
            "  df=pd.concat( [ df, pd.read_csv(outfilename, header=None) ],\n"
          ]
        },
        {
          "name": "stdout",
          "output_type": "stream",
          "text": [
            "Concatenating ( 44 / 60 ):  RequetDataSet-master/B1/MERGED_FILES/baseline_apartment_exp_313_merged.txt\n",
            "Concatenating ( 45 / 60 ):  RequetDataSet-master/B1/MERGED_FILES/baseline_apartment_exp_295_merged.txt\n"
          ]
        },
        {
          "name": "stderr",
          "output_type": "stream",
          "text": [
            "/tmp/ipykernel_6509/2566164876.py:20: DtypeWarning: Columns (14,21,28,42,49,63,70,84,91,98,105) have mixed types. Specify dtype option on import or set low_memory=False.\n",
            "  df=pd.concat( [ df, pd.read_csv(outfilename, header=None) ],\n",
            "/tmp/ipykernel_6509/2566164876.py:20: DtypeWarning: Columns (21,35,42,49,56,77,84,91,105,112,126,133) have mixed types. Specify dtype option on import or set low_memory=False.\n",
            "  df=pd.concat( [ df, pd.read_csv(outfilename, header=None) ],\n"
          ]
        },
        {
          "name": "stdout",
          "output_type": "stream",
          "text": [
            "Concatenating ( 46 / 60 ):  RequetDataSet-master/B1/MERGED_FILES/baseline_apartment_exp_300_merged.txt\n",
            "Concatenating ( 47 / 60 ):  RequetDataSet-master/B1/MERGED_FILES/baseline_apartment_exp_282_merged.txt\n"
          ]
        },
        {
          "name": "stderr",
          "output_type": "stream",
          "text": [
            "/tmp/ipykernel_6509/2566164876.py:20: DtypeWarning: Columns (14,21,35,42,56,70,77,91,98,105,119) have mixed types. Specify dtype option on import or set low_memory=False.\n",
            "  df=pd.concat( [ df, pd.read_csv(outfilename, header=None) ],\n"
          ]
        },
        {
          "name": "stdout",
          "output_type": "stream",
          "text": [
            "Concatenating ( 48 / 60 ):  RequetDataSet-master/B1/MERGED_FILES/baseline_apartment_exp_284_merged.txt\n"
          ]
        },
        {
          "name": "stderr",
          "output_type": "stream",
          "text": [
            "/tmp/ipykernel_6509/2566164876.py:20: DtypeWarning: Columns (21,28,35,63,70,77,84,98,105,112) have mixed types. Specify dtype option on import or set low_memory=False.\n",
            "  df=pd.concat( [ df, pd.read_csv(outfilename, header=None) ],\n",
            "/tmp/ipykernel_6509/2566164876.py:20: DtypeWarning: Columns (14,21,28,49,56,63,70,77,84,91,105,119) have mixed types. Specify dtype option on import or set low_memory=False.\n",
            "  df=pd.concat( [ df, pd.read_csv(outfilename, header=None) ],\n"
          ]
        },
        {
          "name": "stdout",
          "output_type": "stream",
          "text": [
            "Concatenating ( 49 / 60 ):  RequetDataSet-master/B1/MERGED_FILES/baseline_apartment_exp_278_merged.txt\n",
            "Concatenating ( 50 / 60 ):  RequetDataSet-master/B1/MERGED_FILES/baseline_apartment_exp_312_merged.txt\n"
          ]
        },
        {
          "name": "stderr",
          "output_type": "stream",
          "text": [
            "/tmp/ipykernel_6509/2566164876.py:20: DtypeWarning: Columns (14,21,28,42,49,56,70,77,91,98,105,119) have mixed types. Specify dtype option on import or set low_memory=False.\n",
            "  df=pd.concat( [ df, pd.read_csv(outfilename, header=None) ],\n",
            "/tmp/ipykernel_6509/2566164876.py:20: DtypeWarning: Columns (14,21,28,49,56,63,70,77,84,91,98,105) have mixed types. Specify dtype option on import or set low_memory=False.\n",
            "  df=pd.concat( [ df, pd.read_csv(outfilename, header=None) ],\n"
          ]
        },
        {
          "name": "stdout",
          "output_type": "stream",
          "text": [
            "Concatenating ( 51 / 60 ):  RequetDataSet-master/B1/MERGED_FILES/baseline_apartment_exp_385_merged.txt\n",
            "Concatenating ( 52 / 60 ):  RequetDataSet-master/B1/MERGED_FILES/baseline_apartment_exp_299_merged.txt\n"
          ]
        },
        {
          "name": "stderr",
          "output_type": "stream",
          "text": [
            "/tmp/ipykernel_6509/2566164876.py:20: DtypeWarning: Columns (35,42,49,56,63,70,77,84) have mixed types. Specify dtype option on import or set low_memory=False.\n",
            "  df=pd.concat( [ df, pd.read_csv(outfilename, header=None) ],\n"
          ]
        },
        {
          "name": "stdout",
          "output_type": "stream",
          "text": [
            "Concatenating ( 53 / 60 ):  RequetDataSet-master/B1/MERGED_FILES/baseline_apartment_exp_269_merged.txt\n"
          ]
        },
        {
          "name": "stderr",
          "output_type": "stream",
          "text": [
            "/tmp/ipykernel_6509/2566164876.py:20: DtypeWarning: Columns (14,28,35,49,56,63,77,84,91,105) have mixed types. Specify dtype option on import or set low_memory=False.\n",
            "  df=pd.concat( [ df, pd.read_csv(outfilename, header=None) ],\n"
          ]
        },
        {
          "name": "stdout",
          "output_type": "stream",
          "text": [
            "Concatenating ( 54 / 60 ):  RequetDataSet-master/B1/MERGED_FILES/baseline_apartment_exp_298_merged.txt\n"
          ]
        },
        {
          "name": "stderr",
          "output_type": "stream",
          "text": [
            "/tmp/ipykernel_6509/2566164876.py:20: DtypeWarning: Columns (14,21,28,42,49,56,63,70,91,98,105,112,126,133) have mixed types. Specify dtype option on import or set low_memory=False.\n",
            "  df=pd.concat( [ df, pd.read_csv(outfilename, header=None) ],\n"
          ]
        },
        {
          "name": "stdout",
          "output_type": "stream",
          "text": [
            "Concatenating ( 55 / 60 ):  RequetDataSet-master/B1/MERGED_FILES/baseline_apartment_exp_308_merged.txt\n"
          ]
        },
        {
          "name": "stderr",
          "output_type": "stream",
          "text": [
            "/tmp/ipykernel_6509/2566164876.py:20: DtypeWarning: Columns (14,21,28,35,49,56,70,91,105,112,126) have mixed types. Specify dtype option on import or set low_memory=False.\n",
            "  df=pd.concat( [ df, pd.read_csv(outfilename, header=None) ],\n"
          ]
        },
        {
          "name": "stdout",
          "output_type": "stream",
          "text": [
            "Concatenating ( 56 / 60 ):  RequetDataSet-master/B1/MERGED_FILES/baseline_apartment_exp_384_merged.txt\n"
          ]
        },
        {
          "name": "stderr",
          "output_type": "stream",
          "text": [
            "/tmp/ipykernel_6509/2566164876.py:20: DtypeWarning: Columns (14,21,28,42,49,56,63,84,98,105,112,119,126,133) have mixed types. Specify dtype option on import or set low_memory=False.\n",
            "  df=pd.concat( [ df, pd.read_csv(outfilename, header=None) ],\n"
          ]
        },
        {
          "name": "stdout",
          "output_type": "stream",
          "text": [
            "Concatenating ( 57 / 60 ):  RequetDataSet-master/B1/MERGED_FILES/baseline_apartment_exp_283_merged.txt\n"
          ]
        },
        {
          "name": "stderr",
          "output_type": "stream",
          "text": [
            "/tmp/ipykernel_6509/2566164876.py:20: DtypeWarning: Columns (14,21,28,42,56,70,91) have mixed types. Specify dtype option on import or set low_memory=False.\n",
            "  df=pd.concat( [ df, pd.read_csv(outfilename, header=None) ],\n"
          ]
        },
        {
          "name": "stdout",
          "output_type": "stream",
          "text": [
            "Concatenating ( 58 / 60 ):  RequetDataSet-master/B1/MERGED_FILES/baseline_apartment_exp_270_merged.txt\n"
          ]
        },
        {
          "name": "stderr",
          "output_type": "stream",
          "text": [
            "/tmp/ipykernel_6509/2566164876.py:20: DtypeWarning: Columns (14,21,28,35,42,49,56,77,91,98,112,119,126) have mixed types. Specify dtype option on import or set low_memory=False.\n",
            "  df=pd.concat( [ df, pd.read_csv(outfilename, header=None) ],\n"
          ]
        },
        {
          "name": "stdout",
          "output_type": "stream",
          "text": [
            "Concatenating ( 59 / 60 ):  RequetDataSet-master/B1/MERGED_FILES/baseline_apartment_exp_276_merged.txt\n",
            "Concatenating ( 60 / 60 ):  RequetDataSet-master/B1/MERGED_FILES/baseline_apartment_exp_305_merged.txt\n"
          ]
        },
        {
          "name": "stderr",
          "output_type": "stream",
          "text": [
            "/tmp/ipykernel_6509/2566164876.py:20: DtypeWarning: Columns (14,21,28,35,42,49,63,70,77,84,98,112,119) have mixed types. Specify dtype option on import or set low_memory=False.\n",
            "  df=pd.concat( [ df, pd.read_csv(outfilename, header=None) ],\n"
          ]
        }
      ],
      "source": [
        "mydatasets_folder = \"RequetDataSet-master\"\n",
        "dataset_folder=mydatasets_folder+'/'+dataset_to_use+'/MERGED_FILES/'\n",
        "files=glob.glob(dataset_folder+'baseline_*_merged.txt')\n",
        "\n",
        "print(\"Files found in folder : \", dataset_folder ,\":\", files)\n",
        "\n",
        "df=pd.DataFrame()\n",
        "\n",
        "i=1;\n",
        "\n",
        "for file in files:\n",
        "    outfilename = file+\".csv\"\n",
        "    fin = open(file, \"rt\")\n",
        "    fout = open(outfilename,\"wt\")\n",
        "    # From https://pythonexamples.org/python-replace-string-in-file/\n",
        "    for line in fin:\n",
        "        fout.write(line.replace('[','').replace(']',''))\n",
        "    fin.close()\n",
        "    fout.close()\n",
        "    df=pd.concat( [ df, pd.read_csv(outfilename, header=None) ], \n",
        "                ignore_index=True)\n",
        "    print(\"Concatenating (\",i,\"/\",len(files),\"): \", file)\n",
        "    i = i+1"
      ]
    },
    {
      "cell_type": "markdown",
      "metadata": {
        "colab_type": "text",
        "id": "6Eui0Ap-CpgO"
      },
      "source": [
        "More than 15 minutes when ran locally"
      ]
    },
    {
      "cell_type": "markdown",
      "metadata": {
        "colab_type": "text",
        "id": "qNMYKFOACpgQ"
      },
      "source": [
        "We build the column names"
      ]
    },
    {
      "cell_type": "code",
      "execution_count": 4,
      "metadata": {
        "colab": {},
        "colab_type": "code",
        "id": "IVj08w-mCpgT",
        "scrolled": false
      },
      "outputs": [],
      "source": [
        "######\n",
        "#### INTERVAL INFO\n",
        "######\n",
        "\n",
        "# First, we have general information about the 100ms-wide interval.\n",
        "colnames=['RelativeTime', 'PacketsSent', 'PacketsReceived', 'BytesSent', 'BytesReceived']\n",
        "\n",
        "\n",
        "\n",
        "######\n",
        "#### NET INFO\n",
        "######\n",
        "NUM_OF_NET_INFO = 26\n",
        "# Then, we have some NetworkInfo, each one related to the connection of the client to \n",
        "# a server (only the top NUM_OF_NET_INFO are represented)\n",
        "\n",
        "for interval in range(0,NUM_OF_NET_INFO) :\n",
        "        int_str = str(interval)\n",
        "        network_info=['IPSrc'+int_str, 'IPDst'+int_str, 'Protocol'+int_str, \n",
        "                      'PacketsSent'+int_str, 'PacketsReceived'+int_str, \n",
        "                      'BytesSent'+int_str, 'BytesReceived'+int_str]\n",
        "        colnames.extend(network_info)\n",
        "\n",
        "        \n",
        "######\n",
        "#### PLAYBACK INFO\n",
        "######\n",
        "playback_info_event = ['Buffering', 'Paused', 'Playing', 'CollectData'];\n",
        "colnames.extend(playback_info_event);\n",
        "\n",
        "playback_info_generic = ['EpochTime', \n",
        "                'StartTime', 'PlaybackProgress', 'Length'];\n",
        "colnames.extend(playback_info_generic);\n",
        "\n",
        "playback_info_quality = ['UnlabelledQuality', 'q144p', 'q240p', \n",
        "                 'q360p', 'q480p', 'q720p', 'q1080p', 'q1440p', 'q2160p'];\n",
        "colnames.extend(playback_info_quality);\n",
        "\n",
        "playback_info_health_and_progress = ['BufferHealth',\n",
        "                'BufferProgress', 'BufferValid'];\n",
        "colnames.extend(playback_info_health_and_progress)\n",
        "\n",
        "\n",
        "# The correct number of columns should be calculated as follows\n",
        "NUM_OF_INTERVAL_INFO_COLS = 5\n",
        "NUM_OF_NET_INFO_COLS = 7\n",
        "\n",
        "NUM_OF_GENERIC_PLAYBACK_EVENT_COLS = 4\n",
        "NUM_OF_GENERIC_PLAYBACK_COLS = 4\n",
        "NUM_OF_PLAYBACK_QUALITY_COLS = 9\n",
        "NUM_OF_PLAYBACK_HEALTH_AND_PROGRESS_COLS = 3\n",
        "NUM_OF_PLAYBCAK_COLS = NUM_OF_GENERIC_PLAYBACK_EVENT_COLS + \\\n",
        "    NUM_OF_GENERIC_PLAYBACK_COLS + \\\n",
        "    NUM_OF_PLAYBACK_QUALITY_COLS + NUM_OF_PLAYBACK_HEALTH_AND_PROGRESS_COLS\n",
        "    \n",
        "NUM_COLS = NUM_OF_INTERVAL_INFO_COLS + \\\n",
        "    NUM_OF_NET_INFO_COLS*NUM_OF_NET_INFO + NUM_OF_PLAYBCAK_COLS\n",
        "\n",
        "if (len(colnames) !=  NUM_COLS):\n",
        "    raise Exception(\"Expected number of columns \", NUM_COLS, \", constructed \",\n",
        "                   len(colnames) );"
      ]
    },
    {
      "cell_type": "code",
      "execution_count": 5,
      "metadata": {
        "colab": {},
        "colab_type": "code",
        "id": "ygH-2KInCpgb"
      },
      "outputs": [],
      "source": [
        "df.columns=colnames"
      ]
    },
    {
      "cell_type": "code",
      "execution_count": 6,
      "metadata": {
        "colab": {
          "base_uri": "https://localhost:8080/",
          "height": 256
        },
        "colab_type": "code",
        "id": "eyirc-M0Cpgi",
        "outputId": "7e1ee772-b529-4576-fa8a-af90a592e8bf",
        "scrolled": false
      },
      "outputs": [
        {
          "data": {
            "text/html": [
              "<div>\n",
              "<style scoped>\n",
              "    .dataframe tbody tr th:only-of-type {\n",
              "        vertical-align: middle;\n",
              "    }\n",
              "\n",
              "    .dataframe tbody tr th {\n",
              "        vertical-align: top;\n",
              "    }\n",
              "\n",
              "    .dataframe thead th {\n",
              "        text-align: right;\n",
              "    }\n",
              "</style>\n",
              "<table border=\"1\" class=\"dataframe\">\n",
              "  <thead>\n",
              "    <tr style=\"text-align: right;\">\n",
              "      <th></th>\n",
              "      <th>RelativeTime</th>\n",
              "      <th>PacketsSent</th>\n",
              "      <th>PacketsReceived</th>\n",
              "      <th>BytesSent</th>\n",
              "      <th>BytesReceived</th>\n",
              "      <th>IPSrc0</th>\n",
              "      <th>IPDst0</th>\n",
              "      <th>Protocol0</th>\n",
              "      <th>PacketsSent0</th>\n",
              "      <th>PacketsReceived0</th>\n",
              "      <th>...</th>\n",
              "      <th>q240p</th>\n",
              "      <th>q360p</th>\n",
              "      <th>q480p</th>\n",
              "      <th>q720p</th>\n",
              "      <th>q1080p</th>\n",
              "      <th>q1440p</th>\n",
              "      <th>q2160p</th>\n",
              "      <th>BufferHealth</th>\n",
              "      <th>BufferProgress</th>\n",
              "      <th>BufferValid</th>\n",
              "    </tr>\n",
              "  </thead>\n",
              "  <tbody>\n",
              "    <tr>\n",
              "      <th>0</th>\n",
              "      <td>0.0</td>\n",
              "      <td>1</td>\n",
              "      <td>0</td>\n",
              "      <td>75</td>\n",
              "      <td>0</td>\n",
              "      <td>192.168.1.15</td>\n",
              "      <td>173.194.185.106</td>\n",
              "      <td>0</td>\n",
              "      <td>0</td>\n",
              "      <td>0</td>\n",
              "      <td>...</td>\n",
              "      <td>0</td>\n",
              "      <td>0</td>\n",
              "      <td>0</td>\n",
              "      <td>0</td>\n",
              "      <td>0</td>\n",
              "      <td>0</td>\n",
              "      <td>0</td>\n",
              "      <td>0.0</td>\n",
              "      <td>0.0</td>\n",
              "      <td>-1</td>\n",
              "    </tr>\n",
              "    <tr>\n",
              "      <th>1</th>\n",
              "      <td>0.1</td>\n",
              "      <td>9</td>\n",
              "      <td>8</td>\n",
              "      <td>4140</td>\n",
              "      <td>3187</td>\n",
              "      <td>192.168.1.15</td>\n",
              "      <td>173.194.185.106</td>\n",
              "      <td>0</td>\n",
              "      <td>0</td>\n",
              "      <td>0</td>\n",
              "      <td>...</td>\n",
              "      <td>0</td>\n",
              "      <td>0</td>\n",
              "      <td>0</td>\n",
              "      <td>0</td>\n",
              "      <td>0</td>\n",
              "      <td>0</td>\n",
              "      <td>0</td>\n",
              "      <td>0.0</td>\n",
              "      <td>0.0</td>\n",
              "      <td>-1</td>\n",
              "    </tr>\n",
              "    <tr>\n",
              "      <th>2</th>\n",
              "      <td>0.2</td>\n",
              "      <td>21</td>\n",
              "      <td>19</td>\n",
              "      <td>7263</td>\n",
              "      <td>14866</td>\n",
              "      <td>192.168.1.15</td>\n",
              "      <td>173.194.185.106</td>\n",
              "      <td>0</td>\n",
              "      <td>0</td>\n",
              "      <td>0</td>\n",
              "      <td>...</td>\n",
              "      <td>0</td>\n",
              "      <td>0</td>\n",
              "      <td>0</td>\n",
              "      <td>0</td>\n",
              "      <td>0</td>\n",
              "      <td>0</td>\n",
              "      <td>0</td>\n",
              "      <td>0.0</td>\n",
              "      <td>0.0</td>\n",
              "      <td>-1</td>\n",
              "    </tr>\n",
              "    <tr>\n",
              "      <th>3</th>\n",
              "      <td>0.3</td>\n",
              "      <td>5</td>\n",
              "      <td>6</td>\n",
              "      <td>353</td>\n",
              "      <td>3223</td>\n",
              "      <td>192.168.1.15</td>\n",
              "      <td>173.194.185.106</td>\n",
              "      <td>0</td>\n",
              "      <td>0</td>\n",
              "      <td>0</td>\n",
              "      <td>...</td>\n",
              "      <td>0</td>\n",
              "      <td>0</td>\n",
              "      <td>0</td>\n",
              "      <td>0</td>\n",
              "      <td>0</td>\n",
              "      <td>0</td>\n",
              "      <td>0</td>\n",
              "      <td>0.0</td>\n",
              "      <td>0.0</td>\n",
              "      <td>-1</td>\n",
              "    </tr>\n",
              "    <tr>\n",
              "      <th>4</th>\n",
              "      <td>0.4</td>\n",
              "      <td>3</td>\n",
              "      <td>3</td>\n",
              "      <td>367</td>\n",
              "      <td>2410</td>\n",
              "      <td>192.168.1.15</td>\n",
              "      <td>173.194.185.106</td>\n",
              "      <td>0</td>\n",
              "      <td>0</td>\n",
              "      <td>0</td>\n",
              "      <td>...</td>\n",
              "      <td>0</td>\n",
              "      <td>0</td>\n",
              "      <td>0</td>\n",
              "      <td>0</td>\n",
              "      <td>0</td>\n",
              "      <td>0</td>\n",
              "      <td>0</td>\n",
              "      <td>0.0</td>\n",
              "      <td>0.0</td>\n",
              "      <td>-1</td>\n",
              "    </tr>\n",
              "  </tbody>\n",
              "</table>\n",
              "<p>5 rows × 207 columns</p>\n",
              "</div>"
            ],
            "text/plain": [
              "   RelativeTime  PacketsSent  PacketsReceived  BytesSent  BytesReceived  \\\n",
              "0           0.0            1                0         75              0   \n",
              "1           0.1            9                8       4140           3187   \n",
              "2           0.2           21               19       7263          14866   \n",
              "3           0.3            5                6        353           3223   \n",
              "4           0.4            3                3        367           2410   \n",
              "\n",
              "          IPSrc0           IPDst0 Protocol0  PacketsSent0  PacketsReceived0  \\\n",
              "0   192.168.1.15  173.194.185.106         0             0                 0   \n",
              "1   192.168.1.15  173.194.185.106         0             0                 0   \n",
              "2   192.168.1.15  173.194.185.106         0             0                 0   \n",
              "3   192.168.1.15  173.194.185.106         0             0                 0   \n",
              "4   192.168.1.15  173.194.185.106         0             0                 0   \n",
              "\n",
              "   ...  q240p  q360p q480p q720p q1080p  q1440p  q2160p  BufferHealth  \\\n",
              "0  ...      0      0     0     0      0       0       0           0.0   \n",
              "1  ...      0      0     0     0      0       0       0           0.0   \n",
              "2  ...      0      0     0     0      0       0       0           0.0   \n",
              "3  ...      0      0     0     0      0       0       0           0.0   \n",
              "4  ...      0      0     0     0      0       0       0           0.0   \n",
              "\n",
              "   BufferProgress BufferValid  \n",
              "0             0.0          -1  \n",
              "1             0.0          -1  \n",
              "2             0.0          -1  \n",
              "3             0.0          -1  \n",
              "4             0.0          -1  \n",
              "\n",
              "[5 rows x 207 columns]"
            ]
          },
          "execution_count": 6,
          "metadata": {},
          "output_type": "execute_result"
        }
      ],
      "source": [
        "df.head()"
      ]
    },
    {
      "cell_type": "markdown",
      "metadata": {
        "colab_type": "text",
        "id": "sXWjK65jCpgr"
      },
      "source": [
        "Remove the collect data event and unlabeled"
      ]
    },
    {
      "cell_type": "code",
      "execution_count": 7,
      "metadata": {
        "colab": {},
        "colab_type": "code",
        "id": "AOoPW1vSCpgs"
      },
      "outputs": [],
      "source": [
        "df = df [df['CollectData']!=1]  #!why\n",
        "df = df [df['UnlabelledQuality']!=1]"
      ]
    },
    {
      "cell_type": "code",
      "execution_count": 8,
      "metadata": {
        "colab": {
          "base_uri": "https://localhost:8080/",
          "height": 1000
        },
        "colab_type": "code",
        "id": "8w5FT6PXCpgz",
        "outputId": "9e741aba-9e4e-4fe3-8b31-fad563125da7",
        "scrolled": false
      },
      "outputs": [
        {
          "name": "stdout",
          "output_type": "stream",
          "text": [
            "<class 'pandas.core.frame.DataFrame'>\n",
            "Int64Index: 2002 entries, 0 to 360599\n",
            "Data columns (total 207 columns):\n",
            " #    Column             Dtype  \n",
            "---   ------             -----  \n",
            " 0    RelativeTime       float64\n",
            " 1    PacketsSent        int64  \n",
            " 2    PacketsReceived    int64  \n",
            " 3    BytesSent          int64  \n",
            " 4    BytesReceived      int64  \n",
            " 5    IPSrc0             object \n",
            " 6    IPDst0             object \n",
            " 7    Protocol0          object \n",
            " 8    PacketsSent0       int64  \n",
            " 9    PacketsReceived0   int64  \n",
            " 10   BytesSent0         int64  \n",
            " 11   BytesReceived0     int64  \n",
            " 12   IPSrc1             object \n",
            " 13   IPDst1             object \n",
            " 14   Protocol1          object \n",
            " 15   PacketsSent1       int64  \n",
            " 16   PacketsReceived1   int64  \n",
            " 17   BytesSent1         int64  \n",
            " 18   BytesReceived1     int64  \n",
            " 19   IPSrc2             object \n",
            " 20   IPDst2             object \n",
            " 21   Protocol2          object \n",
            " 22   PacketsSent2       int64  \n",
            " 23   PacketsReceived2   int64  \n",
            " 24   BytesSent2         int64  \n",
            " 25   BytesReceived2     int64  \n",
            " 26   IPSrc3             object \n",
            " 27   IPDst3             object \n",
            " 28   Protocol3          object \n",
            " 29   PacketsSent3       int64  \n",
            " 30   PacketsReceived3   int64  \n",
            " 31   BytesSent3         int64  \n",
            " 32   BytesReceived3     int64  \n",
            " 33   IPSrc4             object \n",
            " 34   IPDst4             object \n",
            " 35   Protocol4          object \n",
            " 36   PacketsSent4       int64  \n",
            " 37   PacketsReceived4   int64  \n",
            " 38   BytesSent4         int64  \n",
            " 39   BytesReceived4     int64  \n",
            " 40   IPSrc5             object \n",
            " 41   IPDst5             object \n",
            " 42   Protocol5          object \n",
            " 43   PacketsSent5       int64  \n",
            " 44   PacketsReceived5   int64  \n",
            " 45   BytesSent5         int64  \n",
            " 46   BytesReceived5     int64  \n",
            " 47   IPSrc6             object \n",
            " 48   IPDst6             object \n",
            " 49   Protocol6          object \n",
            " 50   PacketsSent6       int64  \n",
            " 51   PacketsReceived6   int64  \n",
            " 52   BytesSent6         int64  \n",
            " 53   BytesReceived6     int64  \n",
            " 54   IPSrc7             object \n",
            " 55   IPDst7             object \n",
            " 56   Protocol7          object \n",
            " 57   PacketsSent7       int64  \n",
            " 58   PacketsReceived7   int64  \n",
            " 59   BytesSent7         int64  \n",
            " 60   BytesReceived7     int64  \n",
            " 61   IPSrc8             object \n",
            " 62   IPDst8             object \n",
            " 63   Protocol8          object \n",
            " 64   PacketsSent8       int64  \n",
            " 65   PacketsReceived8   int64  \n",
            " 66   BytesSent8         int64  \n",
            " 67   BytesReceived8     int64  \n",
            " 68   IPSrc9             object \n",
            " 69   IPDst9             object \n",
            " 70   Protocol9          object \n",
            " 71   PacketsSent9       int64  \n",
            " 72   PacketsReceived9   int64  \n",
            " 73   BytesSent9         int64  \n",
            " 74   BytesReceived9     int64  \n",
            " 75   IPSrc10            object \n",
            " 76   IPDst10            object \n",
            " 77   Protocol10         object \n",
            " 78   PacketsSent10      int64  \n",
            " 79   PacketsReceived10  int64  \n",
            " 80   BytesSent10        int64  \n",
            " 81   BytesReceived10    int64  \n",
            " 82   IPSrc11            object \n",
            " 83   IPDst11            object \n",
            " 84   Protocol11         object \n",
            " 85   PacketsSent11      int64  \n",
            " 86   PacketsReceived11  int64  \n",
            " 87   BytesSent11        int64  \n",
            " 88   BytesReceived11    int64  \n",
            " 89   IPSrc12            object \n",
            " 90   IPDst12            object \n",
            " 91   Protocol12         object \n",
            " 92   PacketsSent12      int64  \n",
            " 93   PacketsReceived12  int64  \n",
            " 94   BytesSent12        int64  \n",
            " 95   BytesReceived12    int64  \n",
            " 96   IPSrc13            object \n",
            " 97   IPDst13            object \n",
            " 98   Protocol13         object \n",
            " 99   PacketsSent13      int64  \n",
            " 100  PacketsReceived13  int64  \n",
            " 101  BytesSent13        int64  \n",
            " 102  BytesReceived13    int64  \n",
            " 103  IPSrc14            object \n",
            " 104  IPDst14            object \n",
            " 105  Protocol14         object \n",
            " 106  PacketsSent14      int64  \n",
            " 107  PacketsReceived14  int64  \n",
            " 108  BytesSent14        int64  \n",
            " 109  BytesReceived14    int64  \n",
            " 110  IPSrc15            object \n",
            " 111  IPDst15            object \n",
            " 112  Protocol15         object \n",
            " 113  PacketsSent15      int64  \n",
            " 114  PacketsReceived15  int64  \n",
            " 115  BytesSent15        int64  \n",
            " 116  BytesReceived15    int64  \n",
            " 117  IPSrc16            object \n",
            " 118  IPDst16            object \n",
            " 119  Protocol16         object \n",
            " 120  PacketsSent16      int64  \n",
            " 121  PacketsReceived16  int64  \n",
            " 122  BytesSent16        int64  \n",
            " 123  BytesReceived16    int64  \n",
            " 124  IPSrc17            object \n",
            " 125  IPDst17            object \n",
            " 126  Protocol17         object \n",
            " 127  PacketsSent17      int64  \n",
            " 128  PacketsReceived17  int64  \n",
            " 129  BytesSent17        int64  \n",
            " 130  BytesReceived17    int64  \n",
            " 131  IPSrc18            object \n",
            " 132  IPDst18            object \n",
            " 133  Protocol18         object \n",
            " 134  PacketsSent18      int64  \n",
            " 135  PacketsReceived18  int64  \n",
            " 136  BytesSent18        int64  \n",
            " 137  BytesReceived18    int64  \n",
            " 138  IPSrc19            object \n",
            " 139  IPDst19            object \n",
            " 140  Protocol19         object \n",
            " 141  PacketsSent19      int64  \n",
            " 142  PacketsReceived19  int64  \n",
            " 143  BytesSent19        int64  \n",
            " 144  BytesReceived19    int64  \n",
            " 145  IPSrc20            object \n",
            " 146  IPDst20            object \n",
            " 147  Protocol20         object \n",
            " 148  PacketsSent20      int64  \n",
            " 149  PacketsReceived20  int64  \n",
            " 150  BytesSent20        int64  \n",
            " 151  BytesReceived20    int64  \n",
            " 152  IPSrc21            object \n",
            " 153  IPDst21            int64  \n",
            " 154  Protocol21         int64  \n",
            " 155  PacketsSent21      int64  \n",
            " 156  PacketsReceived21  int64  \n",
            " 157  BytesSent21        int64  \n",
            " 158  BytesReceived21    int64  \n",
            " 159  IPSrc22            object \n",
            " 160  IPDst22            int64  \n",
            " 161  Protocol22         int64  \n",
            " 162  PacketsSent22      int64  \n",
            " 163  PacketsReceived22  int64  \n",
            " 164  BytesSent22        int64  \n",
            " 165  BytesReceived22    int64  \n",
            " 166  IPSrc23            object \n",
            " 167  IPDst23            int64  \n",
            " 168  Protocol23         int64  \n",
            " 169  PacketsSent23      int64  \n",
            " 170  PacketsReceived23  int64  \n",
            " 171  BytesSent23        int64  \n",
            " 172  BytesReceived23    int64  \n",
            " 173  IPSrc24            object \n",
            " 174  IPDst24            int64  \n",
            " 175  Protocol24         int64  \n",
            " 176  PacketsSent24      int64  \n",
            " 177  PacketsReceived24  int64  \n",
            " 178  BytesSent24        int64  \n",
            " 179  BytesReceived24    int64  \n",
            " 180  IPSrc25            object \n",
            " 181  IPDst25            object \n",
            " 182  Protocol25         int64  \n",
            " 183  PacketsSent25      int64  \n",
            " 184  PacketsReceived25  int64  \n",
            " 185  BytesSent25        int64  \n",
            " 186  BytesReceived25    int64  \n",
            " 187  Buffering          int64  \n",
            " 188  Paused             int64  \n",
            " 189  Playing            int64  \n",
            " 190  CollectData        int64  \n",
            " 191  EpochTime          int64  \n",
            " 192  StartTime          int64  \n",
            " 193  PlaybackProgress   float64\n",
            " 194  Length             float64\n",
            " 195  UnlabelledQuality  int64  \n",
            " 196  q144p              int64  \n",
            " 197  q240p              int64  \n",
            " 198  q360p              int64  \n",
            " 199  q480p              int64  \n",
            " 200  q720p              int64  \n",
            " 201  q1080p             int64  \n",
            " 202  q1440p             int64  \n",
            " 203  q2160p             int64  \n",
            " 204  BufferHealth       float64\n",
            " 205  BufferProgress     float64\n",
            " 206  BufferValid        object \n",
            "dtypes: float64(5), int64(132), object(70)\n",
            "memory usage: 3.2+ MB\n"
          ]
        }
      ],
      "source": [
        "df.info(verbose=True)"
      ]
    },
    {
      "cell_type": "code",
      "execution_count": 9,
      "metadata": {
        "colab": {},
        "colab_type": "code",
        "id": "zF8lGYz1Cpg6",
        "scrolled": true
      },
      "outputs": [],
      "source": [
        "df['avg_qual'] = (\\\n",
        "    df['q144p']*144 + df['q240p']*240 + df['q360p']*360 +\\\n",
        "    df['q480p']*480 + df['q720p']*720 + df['q1080p']*1080 + \\\n",
        "    df['q1440p']*1440 + df['q2160p']*2160 \\\n",
        "    ) * \\\n",
        "    (\\\n",
        "    df['q144p'] + df['q240p'] + df['q360p'] +\\\n",
        "    df['q480p'] + df['q720p'] + df['q1080p'] + \\\n",
        "    df['q1440p'] + df['q2160p']\\\n",
        "    );\n",
        "\n",
        "df.head()\n",
        "\n",
        "df['KBytesReceived'] = df['BytesReceived']/1000;\n"
      ]
    },
    {
      "cell_type": "code",
      "execution_count": 10,
      "metadata": {
        "colab": {
          "base_uri": "https://localhost:8080/",
          "height": 424
        },
        "colab_type": "code",
        "id": "43Q3RzvhCpg_",
        "outputId": "f936b174-0201-4e39-e72d-6cf50d00259b"
      },
      "outputs": [
        {
          "data": {
            "text/html": [
              "<div>\n",
              "<style scoped>\n",
              "    .dataframe tbody tr th:only-of-type {\n",
              "        vertical-align: middle;\n",
              "    }\n",
              "\n",
              "    .dataframe tbody tr th {\n",
              "        vertical-align: top;\n",
              "    }\n",
              "\n",
              "    .dataframe thead th {\n",
              "        text-align: right;\n",
              "    }\n",
              "</style>\n",
              "<table border=\"1\" class=\"dataframe\">\n",
              "  <thead>\n",
              "    <tr style=\"text-align: right;\">\n",
              "      <th></th>\n",
              "      <th>KBytesReceived</th>\n",
              "      <th>avg_qual</th>\n",
              "    </tr>\n",
              "  </thead>\n",
              "  <tbody>\n",
              "    <tr>\n",
              "      <th>2</th>\n",
              "      <td>14.866</td>\n",
              "      <td>0</td>\n",
              "    </tr>\n",
              "    <tr>\n",
              "      <th>9</th>\n",
              "      <td>21.888</td>\n",
              "      <td>0</td>\n",
              "    </tr>\n",
              "    <tr>\n",
              "      <th>6014</th>\n",
              "      <td>16.757</td>\n",
              "      <td>0</td>\n",
              "    </tr>\n",
              "    <tr>\n",
              "      <th>12030</th>\n",
              "      <td>16.544</td>\n",
              "      <td>0</td>\n",
              "    </tr>\n",
              "    <tr>\n",
              "      <th>12069</th>\n",
              "      <td>439.231</td>\n",
              "      <td>1080</td>\n",
              "    </tr>\n",
              "    <tr>\n",
              "      <th>...</th>\n",
              "      <td>...</td>\n",
              "      <td>...</td>\n",
              "    </tr>\n",
              "    <tr>\n",
              "      <th>348588</th>\n",
              "      <td>19.288</td>\n",
              "      <td>0</td>\n",
              "    </tr>\n",
              "    <tr>\n",
              "      <th>348623</th>\n",
              "      <td>173.786</td>\n",
              "      <td>1080</td>\n",
              "    </tr>\n",
              "    <tr>\n",
              "      <th>354593</th>\n",
              "      <td>15.507</td>\n",
              "      <td>0</td>\n",
              "    </tr>\n",
              "    <tr>\n",
              "      <th>354598</th>\n",
              "      <td>16.362</td>\n",
              "      <td>0</td>\n",
              "    </tr>\n",
              "    <tr>\n",
              "      <th>354626</th>\n",
              "      <td>122.320</td>\n",
              "      <td>240</td>\n",
              "    </tr>\n",
              "  </tbody>\n",
              "</table>\n",
              "<p>157 rows × 2 columns</p>\n",
              "</div>"
            ],
            "text/plain": [
              "        KBytesReceived  avg_qual\n",
              "2               14.866         0\n",
              "9               21.888         0\n",
              "6014            16.757         0\n",
              "12030           16.544         0\n",
              "12069          439.231      1080\n",
              "...                ...       ...\n",
              "348588          19.288         0\n",
              "348623         173.786      1080\n",
              "354593          15.507         0\n",
              "354598          16.362         0\n",
              "354626         122.320       240\n",
              "\n",
              "[157 rows x 2 columns]"
            ]
          },
          "execution_count": 10,
          "metadata": {},
          "output_type": "execute_result"
        }
      ],
      "source": [
        "#df_small = df[['KBytesReceived','avg_qual']]\n",
        "df_small = df[ df['KBytesReceived']>10 ]\n",
        "df_small[['KBytesReceived','avg_qual']]"
      ]
    },
    {
      "cell_type": "markdown",
      "metadata": {
        "colab_type": "text",
        "id": "3bDFeU2FCphH"
      },
      "source": [
        "## Retrieve Labels"
      ]
    },
    {
      "cell_type": "code",
      "execution_count": 11,
      "metadata": {
        "colab": {
          "base_uri": "https://localhost:8080/",
          "height": 605
        },
        "colab_type": "code",
        "id": "tAOClR2-CphJ",
        "outputId": "3a6a64b8-ab7d-47e8-a0a5-113825f34308"
      },
      "outputs": [
        {
          "name": "stdout",
          "output_type": "stream",
          "text": [
            "samples with quality info:\n",
            " 2         0\n",
            "9         0\n",
            "6014      0\n",
            "12030     0\n",
            "12069     1\n",
            "         ..\n",
            "348588    0\n",
            "348623    1\n",
            "354593    0\n",
            "354598    0\n",
            "354626    1\n",
            "Length: 157, dtype: int64\n",
            "Samples with no quality info:\n",
            " 2         1\n",
            "9         1\n",
            "6014      1\n",
            "12030     1\n",
            "12069     0\n",
            "         ..\n",
            "348588    1\n",
            "348623    0\n",
            "354593    1\n",
            "354598    1\n",
            "354626    0\n",
            "Length: 157, dtype: int64\n"
          ]
        },
        {
          "name": "stderr",
          "output_type": "stream",
          "text": [
            "/tmp/ipykernel_6509/3872811946.py:9: SettingWithCopyWarning: \n",
            "A value is trying to be set on a copy of a slice from a DataFrame.\n",
            "Try using .loc[row_indexer,col_indexer] = value instead\n",
            "\n",
            "See the caveats in the documentation: https://pandas.pydata.org/pandas-docs/stable/user_guide/indexing.html#returning-a-view-versus-a-copy\n",
            "  df_small['NoQualityInfo'] = df_no_quality\n"
          ]
        }
      ],
      "source": [
        "quality_columns=['UnlabelledQuality', 'q144p', 'q240p', 'q360p', \n",
        "                  'q480p', 'q720p', 'q1080p', 'q1440p', 'q2160p']\n",
        "\n",
        "print(\"samples with quality info:\\n\", df_small[quality_columns].sum(axis=1))\n",
        "\n",
        "df_no_quality = (df_small[quality_columns].sum(axis=1) - 1 )*(-1)\n",
        "print(\"Samples with no quality info:\\n\", df_no_quality)\n",
        "\n",
        "df_small['NoQualityInfo'] = df_no_quality\n",
        "\n"
      ]
    },
    {
      "cell_type": "code",
      "execution_count": 12,
      "metadata": {
        "colab": {
          "base_uri": "https://localhost:8080/",
          "height": 366
        },
        "colab_type": "code",
        "id": "rJUKTa_sCphO",
        "outputId": "3797a21d-a5b1-4b2e-919d-3598f4f66296",
        "scrolled": false
      },
      "outputs": [
        {
          "name": "stderr",
          "output_type": "stream",
          "text": [
            "/tmp/ipykernel_6509/2459479247.py:7: SettingWithCopyWarning: \n",
            "A value is trying to be set on a copy of a slice from a DataFrame.\n",
            "Try using .loc[row_indexer,col_indexer] = value instead\n",
            "\n",
            "See the caveats in the documentation: https://pandas.pydata.org/pandas-docs/stable/user_guide/indexing.html#returning-a-view-versus-a-copy\n",
            "  df_small['label'] = label\n"
          ]
        },
        {
          "data": {
            "text/html": [
              "<div>\n",
              "<style scoped>\n",
              "    .dataframe tbody tr th:only-of-type {\n",
              "        vertical-align: middle;\n",
              "    }\n",
              "\n",
              "    .dataframe tbody tr th {\n",
              "        vertical-align: top;\n",
              "    }\n",
              "\n",
              "    .dataframe thead th {\n",
              "        text-align: right;\n",
              "    }\n",
              "</style>\n",
              "<table border=\"1\" class=\"dataframe\">\n",
              "  <thead>\n",
              "    <tr style=\"text-align: right;\">\n",
              "      <th></th>\n",
              "      <th>RelativeTime</th>\n",
              "      <th>PacketsSent</th>\n",
              "      <th>PacketsReceived</th>\n",
              "      <th>BytesSent</th>\n",
              "      <th>BytesReceived</th>\n",
              "      <th>IPSrc0</th>\n",
              "      <th>IPDst0</th>\n",
              "      <th>Protocol0</th>\n",
              "      <th>PacketsSent0</th>\n",
              "      <th>PacketsReceived0</th>\n",
              "      <th>...</th>\n",
              "      <th>q1080p</th>\n",
              "      <th>q1440p</th>\n",
              "      <th>q2160p</th>\n",
              "      <th>BufferHealth</th>\n",
              "      <th>BufferProgress</th>\n",
              "      <th>BufferValid</th>\n",
              "      <th>avg_qual</th>\n",
              "      <th>KBytesReceived</th>\n",
              "      <th>NoQualityInfo</th>\n",
              "      <th>label</th>\n",
              "    </tr>\n",
              "  </thead>\n",
              "  <tbody>\n",
              "    <tr>\n",
              "      <th>2</th>\n",
              "      <td>0.2</td>\n",
              "      <td>21</td>\n",
              "      <td>19</td>\n",
              "      <td>7263</td>\n",
              "      <td>14866</td>\n",
              "      <td>192.168.1.15</td>\n",
              "      <td>173.194.185.106</td>\n",
              "      <td>0</td>\n",
              "      <td>0</td>\n",
              "      <td>0</td>\n",
              "      <td>...</td>\n",
              "      <td>0</td>\n",
              "      <td>0</td>\n",
              "      <td>0</td>\n",
              "      <td>0.000000</td>\n",
              "      <td>0.000000</td>\n",
              "      <td>-1</td>\n",
              "      <td>0</td>\n",
              "      <td>14.866</td>\n",
              "      <td>1</td>\n",
              "      <td>NoQualityInfo</td>\n",
              "    </tr>\n",
              "    <tr>\n",
              "      <th>9</th>\n",
              "      <td>0.9</td>\n",
              "      <td>10</td>\n",
              "      <td>18</td>\n",
              "      <td>688</td>\n",
              "      <td>21888</td>\n",
              "      <td>192.168.1.15</td>\n",
              "      <td>173.194.185.106</td>\n",
              "      <td>0</td>\n",
              "      <td>0</td>\n",
              "      <td>0</td>\n",
              "      <td>...</td>\n",
              "      <td>0</td>\n",
              "      <td>0</td>\n",
              "      <td>0</td>\n",
              "      <td>0.000000</td>\n",
              "      <td>0.000000</td>\n",
              "      <td>-1</td>\n",
              "      <td>0</td>\n",
              "      <td>21.888</td>\n",
              "      <td>1</td>\n",
              "      <td>NoQualityInfo</td>\n",
              "    </tr>\n",
              "    <tr>\n",
              "      <th>6014</th>\n",
              "      <td>0.4</td>\n",
              "      <td>7</td>\n",
              "      <td>16</td>\n",
              "      <td>490</td>\n",
              "      <td>16757</td>\n",
              "      <td>192.168.1.15</td>\n",
              "      <td>173.194.131.41</td>\n",
              "      <td>0</td>\n",
              "      <td>0</td>\n",
              "      <td>0</td>\n",
              "      <td>...</td>\n",
              "      <td>0</td>\n",
              "      <td>0</td>\n",
              "      <td>0</td>\n",
              "      <td>0.000000</td>\n",
              "      <td>0.000000</td>\n",
              "      <td>-1</td>\n",
              "      <td>0</td>\n",
              "      <td>16.757</td>\n",
              "      <td>1</td>\n",
              "      <td>NoQualityInfo</td>\n",
              "    </tr>\n",
              "    <tr>\n",
              "      <th>12030</th>\n",
              "      <td>1.0</td>\n",
              "      <td>10</td>\n",
              "      <td>15</td>\n",
              "      <td>1017</td>\n",
              "      <td>16544</td>\n",
              "      <td>192.168.1.15</td>\n",
              "      <td>173.194.61.41</td>\n",
              "      <td>0</td>\n",
              "      <td>0</td>\n",
              "      <td>0</td>\n",
              "      <td>...</td>\n",
              "      <td>0</td>\n",
              "      <td>0</td>\n",
              "      <td>0</td>\n",
              "      <td>0.000000</td>\n",
              "      <td>0.000000</td>\n",
              "      <td>-1</td>\n",
              "      <td>0</td>\n",
              "      <td>16.544</td>\n",
              "      <td>1</td>\n",
              "      <td>NoQualityInfo</td>\n",
              "    </tr>\n",
              "    <tr>\n",
              "      <th>12069</th>\n",
              "      <td>4.9</td>\n",
              "      <td>38</td>\n",
              "      <td>320</td>\n",
              "      <td>3977</td>\n",
              "      <td>439231</td>\n",
              "      <td>192.168.1.15</td>\n",
              "      <td>173.194.61.41</td>\n",
              "      <td>QUIC</td>\n",
              "      <td>34</td>\n",
              "      <td>316</td>\n",
              "      <td>...</td>\n",
              "      <td>1</td>\n",
              "      <td>0</td>\n",
              "      <td>0</td>\n",
              "      <td>10.117581</td>\n",
              "      <td>0.016405</td>\n",
              "      <td>true</td>\n",
              "      <td>1080</td>\n",
              "      <td>439.231</td>\n",
              "      <td>0</td>\n",
              "      <td>q1080p</td>\n",
              "    </tr>\n",
              "  </tbody>\n",
              "</table>\n",
              "<p>5 rows × 211 columns</p>\n",
              "</div>"
            ],
            "text/plain": [
              "       RelativeTime  PacketsSent  PacketsReceived  BytesSent  BytesReceived  \\\n",
              "2               0.2           21               19       7263          14866   \n",
              "9               0.9           10               18        688          21888   \n",
              "6014            0.4            7               16        490          16757   \n",
              "12030           1.0           10               15       1017          16544   \n",
              "12069           4.9           38              320       3977         439231   \n",
              "\n",
              "              IPSrc0           IPDst0 Protocol0  PacketsSent0  \\\n",
              "2       192.168.1.15  173.194.185.106         0             0   \n",
              "9       192.168.1.15  173.194.185.106         0             0   \n",
              "6014    192.168.1.15   173.194.131.41         0             0   \n",
              "12030   192.168.1.15    173.194.61.41         0             0   \n",
              "12069   192.168.1.15    173.194.61.41      QUIC            34   \n",
              "\n",
              "       PacketsReceived0  ...  q1080p  q1440p q2160p BufferHealth  \\\n",
              "2                     0  ...       0       0      0     0.000000   \n",
              "9                     0  ...       0       0      0     0.000000   \n",
              "6014                  0  ...       0       0      0     0.000000   \n",
              "12030                 0  ...       0       0      0     0.000000   \n",
              "12069               316  ...       1       0      0    10.117581   \n",
              "\n",
              "      BufferProgress  BufferValid  avg_qual  KBytesReceived  NoQualityInfo  \\\n",
              "2           0.000000           -1         0          14.866              1   \n",
              "9           0.000000           -1         0          21.888              1   \n",
              "6014        0.000000           -1         0          16.757              1   \n",
              "12030       0.000000           -1         0          16.544              1   \n",
              "12069       0.016405         true      1080         439.231              0   \n",
              "\n",
              "               label  \n",
              "2      NoQualityInfo  \n",
              "9      NoQualityInfo  \n",
              "6014   NoQualityInfo  \n",
              "12030  NoQualityInfo  \n",
              "12069         q1080p  \n",
              "\n",
              "[5 rows x 211 columns]"
            ]
          },
          "execution_count": 12,
          "metadata": {},
          "output_type": "execute_result"
        }
      ],
      "source": [
        "quality_columns.append('NoQualityInfo')\n",
        "\n",
        "\n",
        "# https://stackoverflow.com/a/38334528/2110769\n",
        "label = df_small[quality_columns].idxmax(axis=1)\n",
        "\n",
        "df_small['label'] = label\n",
        "df_small.head()"
      ]
    },
    {
      "cell_type": "code",
      "execution_count": 13,
      "metadata": {
        "colab": {
          "base_uri": "https://localhost:8080/",
          "height": 256
        },
        "colab_type": "code",
        "id": "BapZWeZiCphT",
        "outputId": "0cb20768-2541-4783-c825-7919adcd51a3"
      },
      "outputs": [
        {
          "data": {
            "text/html": [
              "<div>\n",
              "<style scoped>\n",
              "    .dataframe tbody tr th:only-of-type {\n",
              "        vertical-align: middle;\n",
              "    }\n",
              "\n",
              "    .dataframe tbody tr th {\n",
              "        vertical-align: top;\n",
              "    }\n",
              "\n",
              "    .dataframe thead th {\n",
              "        text-align: right;\n",
              "    }\n",
              "</style>\n",
              "<table border=\"1\" class=\"dataframe\">\n",
              "  <thead>\n",
              "    <tr style=\"text-align: right;\">\n",
              "      <th></th>\n",
              "      <th>RelativeTime</th>\n",
              "      <th>PacketsSent</th>\n",
              "      <th>PacketsReceived</th>\n",
              "      <th>BytesSent</th>\n",
              "      <th>BytesReceived</th>\n",
              "      <th>IPSrc0</th>\n",
              "      <th>IPDst0</th>\n",
              "      <th>Protocol0</th>\n",
              "      <th>PacketsSent0</th>\n",
              "      <th>PacketsReceived0</th>\n",
              "      <th>...</th>\n",
              "      <th>CollectData</th>\n",
              "      <th>EpochTime</th>\n",
              "      <th>StartTime</th>\n",
              "      <th>PlaybackProgress</th>\n",
              "      <th>Length</th>\n",
              "      <th>BufferHealth</th>\n",
              "      <th>BufferProgress</th>\n",
              "      <th>BufferValid</th>\n",
              "      <th>KBytesReceived</th>\n",
              "      <th>label</th>\n",
              "    </tr>\n",
              "  </thead>\n",
              "  <tbody>\n",
              "    <tr>\n",
              "      <th>2</th>\n",
              "      <td>0.2</td>\n",
              "      <td>21</td>\n",
              "      <td>19</td>\n",
              "      <td>7263</td>\n",
              "      <td>14866</td>\n",
              "      <td>192.168.1.15</td>\n",
              "      <td>173.194.185.106</td>\n",
              "      <td>0</td>\n",
              "      <td>0</td>\n",
              "      <td>0</td>\n",
              "      <td>...</td>\n",
              "      <td>0</td>\n",
              "      <td>0</td>\n",
              "      <td>1533532916170</td>\n",
              "      <td>0.000000</td>\n",
              "      <td>668.101</td>\n",
              "      <td>0.000000</td>\n",
              "      <td>0.000000</td>\n",
              "      <td>-1</td>\n",
              "      <td>14.866</td>\n",
              "      <td>NoQualityInfo</td>\n",
              "    </tr>\n",
              "    <tr>\n",
              "      <th>9</th>\n",
              "      <td>0.9</td>\n",
              "      <td>10</td>\n",
              "      <td>18</td>\n",
              "      <td>688</td>\n",
              "      <td>21888</td>\n",
              "      <td>192.168.1.15</td>\n",
              "      <td>173.194.185.106</td>\n",
              "      <td>0</td>\n",
              "      <td>0</td>\n",
              "      <td>0</td>\n",
              "      <td>...</td>\n",
              "      <td>0</td>\n",
              "      <td>0</td>\n",
              "      <td>1533532916170</td>\n",
              "      <td>0.000000</td>\n",
              "      <td>668.101</td>\n",
              "      <td>0.000000</td>\n",
              "      <td>0.000000</td>\n",
              "      <td>-1</td>\n",
              "      <td>21.888</td>\n",
              "      <td>NoQualityInfo</td>\n",
              "    </tr>\n",
              "    <tr>\n",
              "      <th>6014</th>\n",
              "      <td>0.4</td>\n",
              "      <td>7</td>\n",
              "      <td>16</td>\n",
              "      <td>490</td>\n",
              "      <td>16757</td>\n",
              "      <td>192.168.1.15</td>\n",
              "      <td>173.194.131.41</td>\n",
              "      <td>0</td>\n",
              "      <td>0</td>\n",
              "      <td>0</td>\n",
              "      <td>...</td>\n",
              "      <td>0</td>\n",
              "      <td>0</td>\n",
              "      <td>1533498438497</td>\n",
              "      <td>0.000000</td>\n",
              "      <td>617.801</td>\n",
              "      <td>0.000000</td>\n",
              "      <td>0.000000</td>\n",
              "      <td>-1</td>\n",
              "      <td>16.757</td>\n",
              "      <td>NoQualityInfo</td>\n",
              "    </tr>\n",
              "    <tr>\n",
              "      <th>12030</th>\n",
              "      <td>1.0</td>\n",
              "      <td>10</td>\n",
              "      <td>15</td>\n",
              "      <td>1017</td>\n",
              "      <td>16544</td>\n",
              "      <td>192.168.1.15</td>\n",
              "      <td>173.194.61.41</td>\n",
              "      <td>0</td>\n",
              "      <td>0</td>\n",
              "      <td>0</td>\n",
              "      <td>...</td>\n",
              "      <td>0</td>\n",
              "      <td>0</td>\n",
              "      <td>1533491556102</td>\n",
              "      <td>0.000000</td>\n",
              "      <td>617.801</td>\n",
              "      <td>0.000000</td>\n",
              "      <td>0.000000</td>\n",
              "      <td>-1</td>\n",
              "      <td>16.544</td>\n",
              "      <td>NoQualityInfo</td>\n",
              "    </tr>\n",
              "    <tr>\n",
              "      <th>12069</th>\n",
              "      <td>4.9</td>\n",
              "      <td>38</td>\n",
              "      <td>320</td>\n",
              "      <td>3977</td>\n",
              "      <td>439231</td>\n",
              "      <td>192.168.1.15</td>\n",
              "      <td>173.194.61.41</td>\n",
              "      <td>QUIC</td>\n",
              "      <td>34</td>\n",
              "      <td>316</td>\n",
              "      <td>...</td>\n",
              "      <td>0</td>\n",
              "      <td>1533491560158</td>\n",
              "      <td>1533491556102</td>\n",
              "      <td>0.017419</td>\n",
              "      <td>617.801</td>\n",
              "      <td>10.117581</td>\n",
              "      <td>0.016405</td>\n",
              "      <td>true</td>\n",
              "      <td>439.231</td>\n",
              "      <td>q1080p</td>\n",
              "    </tr>\n",
              "  </tbody>\n",
              "</table>\n",
              "<p>5 rows × 200 columns</p>\n",
              "</div>"
            ],
            "text/plain": [
              "       RelativeTime  PacketsSent  PacketsReceived  BytesSent  BytesReceived  \\\n",
              "2               0.2           21               19       7263          14866   \n",
              "9               0.9           10               18        688          21888   \n",
              "6014            0.4            7               16        490          16757   \n",
              "12030           1.0           10               15       1017          16544   \n",
              "12069           4.9           38              320       3977         439231   \n",
              "\n",
              "              IPSrc0           IPDst0 Protocol0  PacketsSent0  \\\n",
              "2       192.168.1.15  173.194.185.106         0             0   \n",
              "9       192.168.1.15  173.194.185.106         0             0   \n",
              "6014    192.168.1.15   173.194.131.41         0             0   \n",
              "12030   192.168.1.15    173.194.61.41         0             0   \n",
              "12069   192.168.1.15    173.194.61.41      QUIC            34   \n",
              "\n",
              "       PacketsReceived0  ...  CollectData      EpochTime      StartTime  \\\n",
              "2                     0  ...            0              0  1533532916170   \n",
              "9                     0  ...            0              0  1533532916170   \n",
              "6014                  0  ...            0              0  1533498438497   \n",
              "12030                 0  ...            0              0  1533491556102   \n",
              "12069               316  ...            0  1533491560158  1533491556102   \n",
              "\n",
              "      PlaybackProgress   Length  BufferHealth  BufferProgress  BufferValid  \\\n",
              "2             0.000000  668.101      0.000000        0.000000           -1   \n",
              "9             0.000000  668.101      0.000000        0.000000           -1   \n",
              "6014          0.000000  617.801      0.000000        0.000000           -1   \n",
              "12030         0.000000  617.801      0.000000        0.000000           -1   \n",
              "12069         0.017419  617.801     10.117581        0.016405         true   \n",
              "\n",
              "       KBytesReceived          label  \n",
              "2              14.866  NoQualityInfo  \n",
              "9              21.888  NoQualityInfo  \n",
              "6014           16.757  NoQualityInfo  \n",
              "12030          16.544  NoQualityInfo  \n",
              "12069         439.231         q1080p  \n",
              "\n",
              "[5 rows x 200 columns]"
            ]
          },
          "execution_count": 13,
          "metadata": {},
          "output_type": "execute_result"
        }
      ],
      "source": [
        "df_small = df_small.drop(columns=quality_columns, axis=1)\n",
        "df_small = df_small.drop(columns=['avg_qual'], axis=1)\n",
        "df_small.head()"
      ]
    },
    {
      "cell_type": "markdown",
      "metadata": {
        "colab_type": "text",
        "id": "p2DrkDb2CphY"
      },
      "source": [
        "Save pre-processed data"
      ]
    },
    {
      "cell_type": "code",
      "execution_count": 14,
      "metadata": {
        "colab": {
          "base_uri": "https://localhost:8080/",
          "height": 35
        },
        "colab_type": "code",
        "id": "AS3GTAlGCphZ",
        "outputId": "1de2f690-a1d5-4dbb-eee5-1fb9a8a07b6b"
      },
      "outputs": [
        {
          "name": "stdout",
          "output_type": "stream",
          "text": [
            "df.B1_1.csv  saved\n"
          ]
        }
      ],
      "source": [
        "filename = 'df.'+dataset_to_use+'_1.csv'\n",
        "df_small.to_csv(filename,index = None, header=True)\n",
        "print(filename, \" saved\")\n"
      ]
    },
    {
      "cell_type": "code",
      "execution_count": null,
      "metadata": {
        "colab": {},
        "colab_type": "code",
        "id": "xXfUczKmJLzc"
      },
      "outputs": [],
      "source": []
    }
  ],
  "metadata": {
    "colab": {
      "name": "ignore.preprocessing.ipynb",
      "provenance": []
    },
    "kernelspec": {
      "display_name": "Python 3.10.5 64-bit",
      "language": "python",
      "name": "python3"
    },
    "language_info": {
      "codemirror_mode": {
        "name": "ipython",
        "version": 3
      },
      "file_extension": ".py",
      "mimetype": "text/x-python",
      "name": "python",
      "nbconvert_exporter": "python",
      "pygments_lexer": "ipython3",
      "version": "3.10.5"
    },
    "vscode": {
      "interpreter": {
        "hash": "e7370f93d1d0cde622a1f8e1c04877d8463912d04d973331ad4851f04de6915a"
      }
    }
  },
  "nbformat": 4,
  "nbformat_minor": 0
}
